{
 "cells": [
  {
   "cell_type": "markdown",
   "metadata": {},
   "source": [
    "This tutorial is from  https://github.com/krishnaik06/Stock-Price-Prediction-using-Keras-and-Recurrent-Neural-Networ  -- credicts"
   ]
  },
  {
   "cell_type": "code",
   "execution_count": 1,
   "metadata": {},
   "outputs": [],
   "source": [
    "import pandas as pd\n",
    "dataset_train=pd.read_csv('Google_Stock_Price_Train.csv')\n",
    "\n",
    "\n",
    "import numpy as np\n",
    "import matplotlib.pyplot as plt\n",
    "import pandas as pd\n",
    "training_set = dataset_train.iloc[:, 1:2].values"
   ]
  },
  {
   "cell_type": "code",
   "execution_count": 2,
   "metadata": {},
   "outputs": [],
   "source": [
    "# Feature Scaling\n",
    "from sklearn.preprocessing import MinMaxScaler\n",
    "sc = MinMaxScaler(feature_range = (0, 1))\n",
    "training_set_scaled = sc.fit_transform(training_set)"
   ]
  },
  {
   "cell_type": "code",
   "execution_count": 3,
   "metadata": {},
   "outputs": [],
   "source": [
    "# Creating a data structure with 60 timesteps and 1 output\n",
    "X_train = []\n",
    "y_train = []\n",
    "for i in range(60, 1258):\n",
    "    X_train.append(training_set_scaled[i-60:i, 0])\n",
    "    y_train.append(training_set_scaled[i, 0])\n",
    "X_train, y_train = np.array(X_train), np.array(y_train)\n",
    "\n"
   ]
  },
  {
   "cell_type": "code",
   "execution_count": 6,
   "metadata": {},
   "outputs": [
    {
     "name": "stdout",
     "output_type": "stream",
     "text": [
      "(1198, 60, 1)\n"
     ]
    }
   ],
   "source": [
    "print(X_train.shape)"
   ]
  },
  {
   "cell_type": "code",
   "execution_count": 5,
   "metadata": {},
   "outputs": [],
   "source": [
    "# Reshaping\n",
    "X_train = np.reshape(X_train, (X_train.shape[0], X_train.shape[1], 1))"
   ]
  },
  {
   "cell_type": "code",
   "execution_count": 28,
   "metadata": {},
   "outputs": [],
   "source": [
    "# Part 2 - Building the RNN\n",
    "\n",
    "# Importing the Keras libraries and packages\n",
    "from keras.models import Sequential,load_model\n",
    "from keras.layers import Dense\n",
    "from keras.layers import LSTM\n",
    "from keras.layers import Dropout\n",
    "from keras.callbacks import ModelCheckpoint"
   ]
  },
  {
   "cell_type": "code",
   "execution_count": 9,
   "metadata": {},
   "outputs": [
    {
     "name": "stdout",
     "output_type": "stream",
     "text": [
      "Model: \"sequential_2\"\n",
      "_________________________________________________________________\n",
      "Layer (type)                 Output Shape              Param #   \n",
      "=================================================================\n",
      "lstm_5 (LSTM)                (None, 60, 50)            10400     \n",
      "_________________________________________________________________\n",
      "dropout_5 (Dropout)          (None, 60, 50)            0         \n",
      "_________________________________________________________________\n",
      "lstm_6 (LSTM)                (None, 60, 50)            20200     \n",
      "_________________________________________________________________\n",
      "dropout_6 (Dropout)          (None, 60, 50)            0         \n",
      "_________________________________________________________________\n",
      "lstm_7 (LSTM)                (None, 60, 50)            20200     \n",
      "_________________________________________________________________\n",
      "dropout_7 (Dropout)          (None, 60, 50)            0         \n",
      "_________________________________________________________________\n",
      "lstm_8 (LSTM)                (None, 50)                20200     \n",
      "_________________________________________________________________\n",
      "dropout_8 (Dropout)          (None, 50)                0         \n",
      "_________________________________________________________________\n",
      "dense_2 (Dense)              (None, 1)                 51        \n",
      "=================================================================\n",
      "Total params: 71,051\n",
      "Trainable params: 71,051\n",
      "Non-trainable params: 0\n",
      "_________________________________________________________________\n"
     ]
    }
   ],
   "source": [
    "# Initialising the RNN\n",
    "regressor = Sequential()\n",
    "\n",
    "# Adding the first LSTM layer and some Dropout regularisation\n",
    "regressor.add(LSTM(units = 50, return_sequences = True, input_shape = (X_train.shape[1], 1)))\n",
    "regressor.add(Dropout(0.5))\n",
    "\n",
    "# Adding a second LSTM layer and some Dropout regularisation\n",
    "regressor.add(LSTM(units = 50, return_sequences = True))\n",
    "regressor.add(Dropout(0.5))\n",
    "\n",
    "# Adding a third LSTM layer and some Dropout regularisation\n",
    "regressor.add(LSTM(units = 50, return_sequences = True))\n",
    "regressor.add(Dropout(0.5))\n",
    "\n",
    "# Adding a fourth LSTM layer and some Dropout regularisation\n",
    "regressor.add(LSTM(units = 50))\n",
    "regressor.add(Dropout(0.5))\n",
    "\n",
    "# Adding the output layer\n",
    "regressor.add(Dense(units = 1))\n",
    "\n",
    "\n",
    "\n",
    "regressor.summary()\n"
   ]
  },
  {
   "cell_type": "code",
   "execution_count": 11,
   "metadata": {},
   "outputs": [],
   "source": [
    "# Compiling the RNN\n",
    "regressor.compile(optimizer = 'adam', loss = 'mean_squared_error')"
   ]
  },
  {
   "cell_type": "code",
   "execution_count": 12,
   "metadata": {},
   "outputs": [
    {
     "name": "stdout",
     "output_type": "stream",
     "text": [
      "Epoch 1/100\n",
      "1198/1198 [==============================] - 38s 32ms/step - loss: 0.0514\n",
      "Epoch 2/100\n"
     ]
    },
    {
     "name": "stderr",
     "output_type": "stream",
     "text": [
      "C:\\Users\\user\\Anaconda3\\lib\\site-packages\\keras\\callbacks\\callbacks.py:707: RuntimeWarning: Can save best model only with val_loss available, skipping.\n",
      "  'skipping.' % (self.monitor), RuntimeWarning)\n"
     ]
    },
    {
     "name": "stdout",
     "output_type": "stream",
     "text": [
      "1198/1198 [==============================] - 26s 22ms/step - loss: 0.0155\n",
      "Epoch 3/100\n",
      "1198/1198 [==============================] - 30s 25ms/step - loss: 0.0138\n",
      "Epoch 4/100\n",
      "1198/1198 [==============================] - 29s 24ms/step - loss: 0.0139\n",
      "Epoch 5/100\n",
      "1198/1198 [==============================] - 31s 26ms/step - loss: 0.0124\n",
      "Epoch 6/100\n",
      "1198/1198 [==============================] - 30s 25ms/step - loss: 0.0109\n",
      "Epoch 7/100\n",
      "1198/1198 [==============================] - 31s 26ms/step - loss: 0.0102\n",
      "Epoch 8/100\n",
      "1198/1198 [==============================] - 27s 23ms/step - loss: 0.0106\n",
      "Epoch 9/100\n",
      "1198/1198 [==============================] - 29s 24ms/step - loss: 0.0096\n",
      "Epoch 10/100\n",
      "1198/1198 [==============================] - 25s 21ms/step - loss: 0.0082\n",
      "Epoch 11/100\n",
      "1198/1198 [==============================] - 22s 19ms/step - loss: 0.0077\n",
      "Epoch 12/100\n",
      "1198/1198 [==============================] - 22s 19ms/step - loss: 0.0085\n",
      "Epoch 13/100\n",
      "1198/1198 [==============================] - 22s 18ms/step - loss: 0.0085\n",
      "Epoch 14/100\n",
      "1198/1198 [==============================] - 22s 18ms/step - loss: 0.0090\n",
      "Epoch 15/100\n",
      "1198/1198 [==============================] - 22s 19ms/step - loss: 0.0073\n",
      "Epoch 16/100\n",
      "1198/1198 [==============================] - 23s 19ms/step - loss: 0.0082\n",
      "Epoch 17/100\n",
      "1198/1198 [==============================] - 27s 23ms/step - loss: 0.0083\n",
      "Epoch 18/100\n",
      "1198/1198 [==============================] - 30s 25ms/step - loss: 0.0067\n",
      "Epoch 19/100\n",
      "1198/1198 [==============================] - 29s 24ms/step - loss: 0.0076\n",
      "Epoch 20/100\n",
      "1198/1198 [==============================] - 28s 24ms/step - loss: 0.0069\n",
      "Epoch 21/100\n",
      "1198/1198 [==============================] - 27s 23ms/step - loss: 0.0078\n",
      "Epoch 22/100\n",
      "1198/1198 [==============================] - 29s 24ms/step - loss: 0.0064\n",
      "Epoch 23/100\n",
      "1198/1198 [==============================] - 28s 23ms/step - loss: 0.0066\n",
      "Epoch 24/100\n",
      "1198/1198 [==============================] - 35s 29ms/step - loss: 0.0059\n",
      "Epoch 25/100\n",
      "1198/1198 [==============================] - 24s 20ms/step - loss: 0.0061\n",
      "Epoch 26/100\n",
      "1198/1198 [==============================] - 29s 24ms/step - loss: 0.0059\n",
      "Epoch 27/100\n",
      "1198/1198 [==============================] - 29s 24ms/step - loss: 0.0067\n",
      "Epoch 28/100\n",
      "1198/1198 [==============================] - 32s 27ms/step - loss: 0.0058\n",
      "Epoch 29/100\n",
      "1198/1198 [==============================] - 31s 26ms/step - loss: 0.0058\n",
      "Epoch 30/100\n",
      "1198/1198 [==============================] - 31s 26ms/step - loss: 0.0056\n",
      "Epoch 31/100\n",
      "1198/1198 [==============================] - 30s 25ms/step - loss: 0.0052\n",
      "Epoch 32/100\n",
      "1198/1198 [==============================] - 31s 26ms/step - loss: 0.0055\n",
      "Epoch 33/100\n",
      "1198/1198 [==============================] - 27s 22ms/step - loss: 0.0048\n",
      "Epoch 34/100\n",
      "1198/1198 [==============================] - 27s 22ms/step - loss: 0.0055\n",
      "Epoch 35/100\n",
      "1198/1198 [==============================] - 26s 22ms/step - loss: 0.0047\n",
      "Epoch 36/100\n",
      "1198/1198 [==============================] - 30s 25ms/step - loss: 0.0047\n",
      "Epoch 37/100\n",
      "1198/1198 [==============================] - 29s 24ms/step - loss: 0.0047\n",
      "Epoch 38/100\n",
      "1198/1198 [==============================] - 26s 22ms/step - loss: 0.0050\n",
      "Epoch 39/100\n",
      "1198/1198 [==============================] - 32s 27ms/step - loss: 0.0049\n",
      "Epoch 40/100\n",
      "1198/1198 [==============================] - 33s 27ms/step - loss: 0.0043\n",
      "Epoch 41/100\n",
      "1198/1198 [==============================] - 27s 22ms/step - loss: 0.0050\n",
      "Epoch 42/100\n",
      "1198/1198 [==============================] - 32s 26ms/step - loss: 0.0042\n",
      "Epoch 43/100\n",
      "1198/1198 [==============================] - 27s 23ms/step - loss: 0.0044\n",
      "Epoch 44/100\n",
      "1198/1198 [==============================] - 26s 21ms/step - loss: 0.0047\n",
      "Epoch 45/100\n",
      "1198/1198 [==============================] - 24s 20ms/step - loss: 0.0043\n",
      "Epoch 46/100\n",
      "1198/1198 [==============================] - 32s 27ms/step - loss: 0.0041\n",
      "Epoch 47/100\n",
      "1198/1198 [==============================] - 28s 23ms/step - loss: 0.0043\n",
      "Epoch 48/100\n",
      "1198/1198 [==============================] - 25s 21ms/step - loss: 0.0041\n",
      "Epoch 49/100\n",
      "1198/1198 [==============================] - 24s 20ms/step - loss: 0.0039\n",
      "Epoch 50/100\n",
      "1198/1198 [==============================] - 27s 23ms/step - loss: 0.0037\n",
      "Epoch 51/100\n",
      "1198/1198 [==============================] - 26s 22ms/step - loss: 0.0038\n",
      "Epoch 52/100\n",
      "1198/1198 [==============================] - 28s 23ms/step - loss: 0.0042\n",
      "Epoch 53/100\n",
      "1198/1198 [==============================] - 26s 21ms/step - loss: 0.0037\n",
      "Epoch 54/100\n",
      "1198/1198 [==============================] - 29s 24ms/step - loss: 0.0045\n",
      "Epoch 55/100\n",
      "1198/1198 [==============================] - 27s 23ms/step - loss: 0.0039\n",
      "Epoch 56/100\n",
      "1198/1198 [==============================] - 28s 23ms/step - loss: 0.0037\n",
      "Epoch 57/100\n",
      "1198/1198 [==============================] - 27s 22ms/step - loss: 0.0035\n",
      "Epoch 58/100\n",
      "1198/1198 [==============================] - 25s 21ms/step - loss: 0.0039\n",
      "Epoch 59/100\n",
      "1198/1198 [==============================] - 25s 21ms/step - loss: 0.0036\n",
      "Epoch 60/100\n",
      "1198/1198 [==============================] - 27s 22ms/step - loss: 0.0040\n",
      "Epoch 61/100\n",
      "1198/1198 [==============================] - 28s 23ms/step - loss: 0.0032\n",
      "Epoch 62/100\n",
      "1198/1198 [==============================] - 28s 23ms/step - loss: 0.0036\n",
      "Epoch 63/100\n",
      "1198/1198 [==============================] - 29s 24ms/step - loss: 0.0030\n",
      "Epoch 64/100\n",
      "1198/1198 [==============================] - 28s 24ms/step - loss: 0.0037\n",
      "Epoch 65/100\n",
      "1198/1198 [==============================] - 27s 22ms/step - loss: 0.0036\n",
      "Epoch 66/100\n",
      "1198/1198 [==============================] - 31s 26ms/step - loss: 0.0037\n",
      "Epoch 67/100\n",
      "1198/1198 [==============================] - 30s 25ms/step - loss: 0.0036\n",
      "Epoch 68/100\n",
      "1198/1198 [==============================] - 32s 26ms/step - loss: 0.0038\n",
      "Epoch 69/100\n",
      "1198/1198 [==============================] - 32s 27ms/step - loss: 0.0034\n",
      "Epoch 70/100\n",
      "1198/1198 [==============================] - 30s 25ms/step - loss: 0.0036\n",
      "Epoch 71/100\n",
      "1198/1198 [==============================] - 32s 27ms/step - loss: 0.0035\n",
      "Epoch 72/100\n",
      "1198/1198 [==============================] - 29s 24ms/step - loss: 0.0035\n",
      "Epoch 73/100\n",
      "1198/1198 [==============================] - 30s 25ms/step - loss: 0.0033\n",
      "Epoch 74/100\n",
      "1198/1198 [==============================] - 28s 24ms/step - loss: 0.0034\n",
      "Epoch 75/100\n",
      "1198/1198 [==============================] - 30s 25ms/step - loss: 0.0032\n",
      "Epoch 76/100\n",
      "1198/1198 [==============================] - 38s 32ms/step - loss: 0.0034\n",
      "Epoch 77/100\n",
      "1198/1198 [==============================] - 130s 108ms/step - loss: 0.0031\n",
      "Epoch 78/100\n",
      "1198/1198 [==============================] - 14s 12ms/step - loss: 0.0031\n",
      "Epoch 79/100\n",
      "1198/1198 [==============================] - 14s 12ms/step - loss: 0.0032\n",
      "Epoch 80/100\n",
      "1198/1198 [==============================] - 14s 12ms/step - loss: 0.0034\n",
      "Epoch 81/100\n",
      "1198/1198 [==============================] - 14s 12ms/step - loss: 0.0031\n",
      "Epoch 82/100\n",
      "1198/1198 [==============================] - 14s 12ms/step - loss: 0.0031\n",
      "Epoch 83/100\n",
      "1198/1198 [==============================] - 13s 11ms/step - loss: 0.0029\n",
      "Epoch 84/100\n",
      "1198/1198 [==============================] - 13s 11ms/step - loss: 0.0034\n",
      "Epoch 85/100\n",
      "1198/1198 [==============================] - 13s 11ms/step - loss: 0.0029\n",
      "Epoch 86/100\n",
      "1198/1198 [==============================] - 13s 11ms/step - loss: 0.0032\n",
      "Epoch 87/100\n",
      "1198/1198 [==============================] - 13s 11ms/step - loss: 0.0033\n",
      "Epoch 88/100\n",
      "1198/1198 [==============================] - 13s 11ms/step - loss: 0.0033\n",
      "Epoch 89/100\n",
      "1198/1198 [==============================] - 12s 10ms/step - loss: 0.0033\n",
      "Epoch 90/100\n",
      "1198/1198 [==============================] - 13s 11ms/step - loss: 0.0032\n",
      "Epoch 91/100\n",
      "1198/1198 [==============================] - 12s 10ms/step - loss: 0.0033\n",
      "Epoch 92/100\n",
      "1198/1198 [==============================] - 12s 10ms/step - loss: 0.0033\n",
      "Epoch 93/100\n",
      "1198/1198 [==============================] - 12s 10ms/step - loss: 0.0032\n",
      "Epoch 94/100\n",
      "1198/1198 [==============================] - 12s 10ms/step - loss: 0.0034\n",
      "Epoch 95/100\n",
      "1198/1198 [==============================] - 13s 10ms/step - loss: 0.0032\n",
      "Epoch 96/100\n",
      "1198/1198 [==============================] - 12s 10ms/step - loss: 0.0031\n",
      "Epoch 97/100\n",
      "1198/1198 [==============================] - 12s 10ms/step - loss: 0.0030\n",
      "Epoch 98/100\n",
      "1198/1198 [==============================] - 12s 10ms/step - loss: 0.0031\n",
      "Epoch 99/100\n",
      "1198/1198 [==============================] - 12s 10ms/step - loss: 0.0030\n",
      "Epoch 100/100\n",
      "1198/1198 [==============================] - 13s 11ms/step - loss: 0.0029\n"
     ]
    },
    {
     "data": {
      "text/plain": [
       "<keras.callbacks.callbacks.History at 0x12d91c55848>"
      ]
     },
     "execution_count": 12,
     "metadata": {},
     "output_type": "execute_result"
    }
   ],
   "source": [
    "# Fitting the RNN to the Training set\n",
    "filepath='my_model.h5'\n",
    "check=ModelCheckpoint(filepath, monitor='val_loss', verbose=0, save_best_only=True, save_weights_only=False, mode='auto', period=1)\n",
    "regressor.fit(X_train, y_train, epochs = 100, batch_size = 32,callbacks=[check])"
   ]
  },
  {
   "cell_type": "code",
   "execution_count": null,
   "metadata": {},
   "outputs": [],
   "source": []
  },
  {
   "cell_type": "code",
   "execution_count": 15,
   "metadata": {},
   "outputs": [],
   "source": [
    "\n",
    "dataset_test = pd.read_csv('Google_Stock_Price_Test.csv')"
   ]
  },
  {
   "cell_type": "code",
   "execution_count": 16,
   "metadata": {},
   "outputs": [],
   "source": [
    "real_stock_price = dataset_test.iloc[:, 1:2].values"
   ]
  },
  {
   "cell_type": "code",
   "execution_count": 18,
   "metadata": {},
   "outputs": [
    {
     "data": {
      "text/plain": [
       "(20, 1)"
      ]
     },
     "execution_count": 18,
     "metadata": {},
     "output_type": "execute_result"
    }
   ],
   "source": [
    "real_stock_price.shape"
   ]
  },
  {
   "cell_type": "code",
   "execution_count": null,
   "metadata": {},
   "outputs": [],
   "source": [
    "# as we have taken previous 60 rime steps and test data is not sufficient so we will append from the train data"
   ]
  },
  {
   "cell_type": "code",
   "execution_count": 19,
   "metadata": {},
   "outputs": [],
   "source": [
    "dataset_total = pd.concat((dataset_train['Open'], dataset_test['Open']), axis = 0)\n",
    "inputs = dataset_total[len(dataset_total) - len(dataset_test) - 60:].values"
   ]
  },
  {
   "cell_type": "code",
   "execution_count": 21,
   "metadata": {},
   "outputs": [
    {
     "data": {
      "text/plain": [
       "(80,)"
      ]
     },
     "execution_count": 21,
     "metadata": {},
     "output_type": "execute_result"
    }
   ],
   "source": [
    "inputs.shape"
   ]
  },
  {
   "cell_type": "code",
   "execution_count": 22,
   "metadata": {},
   "outputs": [],
   "source": [
    " # preparing data for prediction\n",
    "inputs = inputs.reshape(-1,1)\n",
    "inputs = sc.transform(inputs)"
   ]
  },
  {
   "cell_type": "code",
   "execution_count": 23,
   "metadata": {},
   "outputs": [],
   "source": [
    "X_test=[]\n",
    "for i in range(60, 80):\n",
    "    X_test.append(inputs[i-60:i, 0])"
   ]
  },
  {
   "cell_type": "code",
   "execution_count": 24,
   "metadata": {},
   "outputs": [],
   "source": [
    "X_test = np.array(X_test)\n",
    "X_test = np.reshape(X_test, (X_test.shape[0], X_test.shape[1], 1))"
   ]
  },
  {
   "cell_type": "code",
   "execution_count": 31,
   "metadata": {},
   "outputs": [],
   "source": [
    "# regressor=load_model(filepath)"
   ]
  },
  {
   "cell_type": "code",
   "execution_count": 25,
   "metadata": {},
   "outputs": [],
   "source": [
    "predicted_stock_price = regressor.predict(X_test)\n",
    "predicted_stock_price = sc.inverse_transform(predicted_stock_price)"
   ]
  },
  {
   "cell_type": "code",
   "execution_count": 33,
   "metadata": {},
   "outputs": [
    {
     "data": {
      "image/png": "[encoded data removed]",
      "text/plain": [
       "<Figure size 432x288 with 1 Axes>"
      ]
     },
     "metadata": {
      "needs_background": "light"
     },
     "output_type": "display_data"
    }
   ],
   "source": [
    "# Visualising the results\n",
    "plt.plot(real_stock_price, color = 'red', label = 'Real Google Stock Price')\n",
    "plt.plot(predicted_stock_price, color = 'blue', label = 'Predicted Google Stock Price')\n",
    "plt.title('Google Stock Price Prediction')\n",
    "plt.xlabel('Time')\n",
    "plt.ylabel('Google Stock Price')\n",
    "plt.legend()\n",
    "plt.show()"
   ]
  },
  {
   "cell_type": "code",
   "execution_count": null,
   "metadata": {},
   "outputs": [],
   "source": []
  }
 ],
 "metadata": {
  "kernelspec": {
   "display_name": "Python 3",
   "language": "python",
   "name": "python3"
  },
  "language_info": {
   "codemirror_mode": {
    "name": "ipython",
    "version": 3
   },
   "file_extension": ".py",
   "mimetype": "text/x-python",
   "name": "python",
   "nbconvert_exporter": "python",
   "pygments_lexer": "ipython3",
   "version": "3.7.4"
  }
 },
 "nbformat": 4,
 "nbformat_minor": 2
}
